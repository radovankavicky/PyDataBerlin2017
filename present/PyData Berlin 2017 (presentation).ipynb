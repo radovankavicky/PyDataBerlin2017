{
 "cells": [
  {
   "cell_type": "code",
   "execution_count": 1,
   "metadata": {
    "collapsed": true,
    "nbpresent": {
     "id": "5405a770-262e-4bfd-ade8-061d9fb82c05"
    }
   },
   "outputs": [],
   "source": [
    "%matplotlib inline"
   ]
  },
  {
   "cell_type": "code",
   "execution_count": 2,
   "metadata": {
    "collapsed": false,
    "nbpresent": {
     "id": "e45f0568-3df8-43bc-8928-424404d2b30e"
    }
   },
   "outputs": [],
   "source": [
    "import matplotlib.pyplot as plt\n",
    "import numpy as np\n",
    "import pandas as pd\n",
    "import seaborn as sbn\n",
    "import bokeh as bok\n",
    "import plotly as plot"
   ]
  },
  {
   "cell_type": "code",
   "execution_count": 3,
   "metadata": {
    "collapsed": false,
    "nbpresent": {
     "id": "09dde386-d226-4de6-beb3-5ad2216d6a35"
    }
   },
   "outputs": [],
   "source": [
    "# Customization\n",
    "sbn.set() # matplotlib defaults\n",
    "# Any Tweeks that normally go in .matplotlibrc, etc., should explicitly go here\n",
    "plt.rcParams['figure.figsize'] = (12, 8)\n",
    "%config InlineBackend.figure_format='retina'"
   ]
  },
  {
   "cell_type": "code",
   "execution_count": 4,
   "metadata": {
    "collapsed": true,
    "nbpresent": {
     "id": "7afd62dd-0f35-4cbb-8e3f-7b8ab2c6f105"
    }
   },
   "outputs": [],
   "source": [
    "from IPython.display import IFrame"
   ]
  },
  {
   "cell_type": "code",
   "execution_count": 5,
   "metadata": {
    "collapsed": false,
    "nbpresent": {
     "id": "d0da6701-79a5-4119-8349-0580487648d2"
    }
   },
   "outputs": [
    {
     "data": {
      "text/html": [
       "\n",
       "        <iframe\n",
       "            width=\"700\"\n",
       "            height=\"350\"\n",
       "            src=\"http://www.nbs.sk/en/home\"\n",
       "            frameborder=\"0\"\n",
       "            allowfullscreen\n",
       "        ></iframe>\n",
       "        "
      ],
      "text/plain": [
       "<IPython.lib.display.IFrame at 0x13a066f128>"
      ]
     },
     "execution_count": 5,
     "metadata": {},
     "output_type": "execute_result"
    }
   ],
   "source": [
    "IFrame('http://www.nbs.sk/en/home', width=700, height=350)"
   ]
  },
  {
   "cell_type": "code",
   "execution_count": 6,
   "metadata": {
    "collapsed": true,
    "nbpresent": {
     "id": "bb7e0b03-a65c-4d72-9d96-a12c5345196e"
    }
   },
   "outputs": [],
   "source": [
    "dframe= pd.read_csv('macrostat.csv')"
   ]
  },
  {
   "cell_type": "code",
   "execution_count": 7,
   "metadata": {
    "collapsed": false,
    "nbpresent": {
     "id": "039533c2-63ba-4a92-bd24-eaec1d5a068e"
    }
   },
   "outputs": [
    {
     "data": {
      "text/html": [
       "<div>\n",
       "<table border=\"1\" class=\"dataframe\">\n",
       "  <thead>\n",
       "    <tr style=\"text-align: right;\">\n",
       "      <th></th>\n",
       "      <th>Q/Time;GDP Expenditure method</th>\n",
       "      <th>GDP - Expenditure method</th>\n",
       "      <th>Constant prices</th>\n",
       "      <th>SA</th>\n",
       "      <th>GDP - Gross domestic product</th>\n",
       "      <th>[SK</th>\n",
       "      <th>r</th>\n",
       "      <th>sa</th>\n",
       "      <th>mil. Eur]</th>\n",
       "      <th>SO SR</th>\n",
       "    </tr>\n",
       "  </thead>\n",
       "  <tbody>\n",
       "    <tr>\n",
       "      <th>0</th>\n",
       "      <td>1Q1993;7687.3711884008</td>\n",
       "      <td>NaN</td>\n",
       "      <td>NaN</td>\n",
       "      <td>NaN</td>\n",
       "      <td>NaN</td>\n",
       "      <td>NaN</td>\n",
       "      <td>NaN</td>\n",
       "      <td>NaN</td>\n",
       "      <td>NaN</td>\n",
       "      <td>NaN</td>\n",
       "    </tr>\n",
       "    <tr>\n",
       "      <th>1</th>\n",
       "      <td>2Q1993;7687.3711884008</td>\n",
       "      <td>NaN</td>\n",
       "      <td>NaN</td>\n",
       "      <td>NaN</td>\n",
       "      <td>NaN</td>\n",
       "      <td>NaN</td>\n",
       "      <td>NaN</td>\n",
       "      <td>NaN</td>\n",
       "      <td>NaN</td>\n",
       "      <td>NaN</td>\n",
       "    </tr>\n",
       "    <tr>\n",
       "      <th>2</th>\n",
       "      <td>3Q1993;7794.2256479195</td>\n",
       "      <td>NaN</td>\n",
       "      <td>NaN</td>\n",
       "      <td>NaN</td>\n",
       "      <td>NaN</td>\n",
       "      <td>NaN</td>\n",
       "      <td>NaN</td>\n",
       "      <td>NaN</td>\n",
       "      <td>NaN</td>\n",
       "      <td>NaN</td>\n",
       "    </tr>\n",
       "    <tr>\n",
       "      <th>3</th>\n",
       "      <td>4Q1993;7884.6386654354</td>\n",
       "      <td>NaN</td>\n",
       "      <td>NaN</td>\n",
       "      <td>NaN</td>\n",
       "      <td>NaN</td>\n",
       "      <td>NaN</td>\n",
       "      <td>NaN</td>\n",
       "      <td>NaN</td>\n",
       "      <td>NaN</td>\n",
       "      <td>NaN</td>\n",
       "    </tr>\n",
       "    <tr>\n",
       "      <th>4</th>\n",
       "      <td>1Q1994;8003.6967092835</td>\n",
       "      <td>NaN</td>\n",
       "      <td>NaN</td>\n",
       "      <td>NaN</td>\n",
       "      <td>NaN</td>\n",
       "      <td>NaN</td>\n",
       "      <td>NaN</td>\n",
       "      <td>NaN</td>\n",
       "      <td>NaN</td>\n",
       "      <td>NaN</td>\n",
       "    </tr>\n",
       "  </tbody>\n",
       "</table>\n",
       "</div>"
      ],
      "text/plain": [
       "  Q/Time;GDP Expenditure method  GDP - Expenditure method   Constant prices  \\\n",
       "0        1Q1993;7687.3711884008                       NaN               NaN   \n",
       "1        2Q1993;7687.3711884008                       NaN               NaN   \n",
       "2        3Q1993;7794.2256479195                       NaN               NaN   \n",
       "3        4Q1993;7884.6386654354                       NaN               NaN   \n",
       "4        1Q1994;8003.6967092835                       NaN               NaN   \n",
       "\n",
       "    SA  GDP - Gross domestic product  [SK   r   sa   mil. Eur]   SO SR  \n",
       "0  NaN                           NaN  NaN NaN  NaN         NaN     NaN  \n",
       "1  NaN                           NaN  NaN NaN  NaN         NaN     NaN  \n",
       "2  NaN                           NaN  NaN NaN  NaN         NaN     NaN  \n",
       "3  NaN                           NaN  NaN NaN  NaN         NaN     NaN  \n",
       "4  NaN                           NaN  NaN NaN  NaN         NaN     NaN  "
      ]
     },
     "execution_count": 7,
     "metadata": {},
     "output_type": "execute_result"
    }
   ],
   "source": [
    "#Tip use .head()\n",
    "dframe.head()"
   ]
  },
  {
   "cell_type": "code",
   "execution_count": 8,
   "metadata": {
    "collapsed": false,
    "nbpresent": {
     "id": "795de9c4-f5c8-45b8-87af-6fb98ed259f9"
    }
   },
   "outputs": [
    {
     "ename": "AttributeError",
     "evalue": "'DataFrame' object has no attribute 'r'",
     "output_type": "error",
     "traceback": [
      "\u001b[0;31m---------------------------------------------------------------------------\u001b[0m",
      "\u001b[0;31mAttributeError\u001b[0m                            Traceback (most recent call last)",
      "\u001b[0;32m<ipython-input-8-0a2a6073cdb0>\u001b[0m in \u001b[0;36m<module>\u001b[0;34m()\u001b[0m\n\u001b[0;32m----> 1\u001b[0;31m \u001b[0mplt\u001b[0m\u001b[1;33m.\u001b[0m\u001b[0mscatter\u001b[0m\u001b[1;33m(\u001b[0m\u001b[0mdframe\u001b[0m\u001b[1;33m.\u001b[0m\u001b[0mr\u001b[0m\u001b[1;33m,\u001b[0m \u001b[0mdframe\u001b[0m\u001b[1;33m.\u001b[0m\u001b[0mSA\u001b[0m\u001b[1;33m)\u001b[0m\u001b[1;33m\u001b[0m\u001b[0m\n\u001b[0m\u001b[1;32m      2\u001b[0m \u001b[0mplt\u001b[0m\u001b[1;33m.\u001b[0m\u001b[0mxlabel\u001b[0m\u001b[1;33m(\u001b[0m\u001b[1;34m\"Number of Employees\"\u001b[0m\u001b[1;33m)\u001b[0m\u001b[1;33m\u001b[0m\u001b[0m\n\u001b[1;32m      3\u001b[0m \u001b[0mplt\u001b[0m\u001b[1;33m.\u001b[0m\u001b[0mylabel\u001b[0m\u001b[1;33m(\u001b[0m\u001b[1;34m\"Labour Hours Worked\"\u001b[0m\u001b[1;33m)\u001b[0m\u001b[1;33m\u001b[0m\u001b[0m\n",
      "\u001b[0;32mC:\\Users\\radovan.kavicky\\Anaconda3\\lib\\site-packages\\pandas\\core\\generic.py\u001b[0m in \u001b[0;36m__getattr__\u001b[0;34m(self, name)\u001b[0m\n\u001b[1;32m   2742\u001b[0m             \u001b[1;32mif\u001b[0m \u001b[0mname\u001b[0m \u001b[1;32min\u001b[0m \u001b[0mself\u001b[0m\u001b[1;33m.\u001b[0m\u001b[0m_info_axis\u001b[0m\u001b[1;33m:\u001b[0m\u001b[1;33m\u001b[0m\u001b[0m\n\u001b[1;32m   2743\u001b[0m                 \u001b[1;32mreturn\u001b[0m \u001b[0mself\u001b[0m\u001b[1;33m[\u001b[0m\u001b[0mname\u001b[0m\u001b[1;33m]\u001b[0m\u001b[1;33m\u001b[0m\u001b[0m\n\u001b[0;32m-> 2744\u001b[0;31m             \u001b[1;32mreturn\u001b[0m \u001b[0mobject\u001b[0m\u001b[1;33m.\u001b[0m\u001b[0m__getattribute__\u001b[0m\u001b[1;33m(\u001b[0m\u001b[0mself\u001b[0m\u001b[1;33m,\u001b[0m \u001b[0mname\u001b[0m\u001b[1;33m)\u001b[0m\u001b[1;33m\u001b[0m\u001b[0m\n\u001b[0m\u001b[1;32m   2745\u001b[0m \u001b[1;33m\u001b[0m\u001b[0m\n\u001b[1;32m   2746\u001b[0m     \u001b[1;32mdef\u001b[0m \u001b[0m__setattr__\u001b[0m\u001b[1;33m(\u001b[0m\u001b[0mself\u001b[0m\u001b[1;33m,\u001b[0m \u001b[0mname\u001b[0m\u001b[1;33m,\u001b[0m \u001b[0mvalue\u001b[0m\u001b[1;33m)\u001b[0m\u001b[1;33m:\u001b[0m\u001b[1;33m\u001b[0m\u001b[0m\n",
      "\u001b[0;31mAttributeError\u001b[0m: 'DataFrame' object has no attribute 'r'"
     ]
    }
   ],
   "source": [
    "plt.scatter(dframe.r, dframe.SA)\n",
    "plt.xlabel(\"Number of Employees\")\n",
    "plt.ylabel(\"Labour Hours Worked\")"
   ]
  },
  {
   "cell_type": "code",
   "execution_count": null,
   "metadata": {
    "collapsed": true,
    "nbpresent": {
     "id": "5d0efcce-6104-4058-94db-a3a91a8af292"
    }
   },
   "outputs": [],
   "source": []
  }
 ],
 "metadata": {
  "anaconda-cloud": {},
  "kernelspec": {
   "display_name": "Python [conda root]",
   "language": "python",
   "name": "conda-root-py"
  },
  "language_info": {
   "codemirror_mode": {
    "name": "ipython",
    "version": 3
   },
   "file_extension": ".py",
   "mimetype": "text/x-python",
   "name": "python",
   "nbconvert_exporter": "python",
   "pygments_lexer": "ipython3",
   "version": "3.5.2"
  },
  "nbpresent": {
   "slides": {
    "399ec872-03c6-453f-8c01-6cfe18f4830e": {
     "id": "399ec872-03c6-453f-8c01-6cfe18f4830e",
     "prev": "4e0d4da8-63a0-40f1-956e-4828046bbde2",
     "regions": {
      "92d9ec88-a948-4518-b5c5-29662aee38f3": {
       "attrs": {
        "height": 0.8,
        "width": 0.8,
        "x": 0.1,
        "y": 0.1
       },
       "content": {
        "cell": "039533c2-63ba-4a92-bd24-eaec1d5a068e",
        "part": "whole"
       },
       "id": "92d9ec88-a948-4518-b5c5-29662aee38f3"
      }
     }
    },
    "4e0d4da8-63a0-40f1-956e-4828046bbde2": {
     "id": "4e0d4da8-63a0-40f1-956e-4828046bbde2",
     "prev": "609c2196-edc7-49c3-b268-f5de392155f0",
     "regions": {
      "aa086a08-a2e4-4e0a-ad79-97f8d3a80be8": {
       "attrs": {
        "height": 0.8,
        "width": 0.8,
        "x": 0.1,
        "y": 0.1
       },
       "content": {
        "cell": "bb7e0b03-a65c-4d72-9d96-a12c5345196e",
        "part": "whole"
       },
       "id": "aa086a08-a2e4-4e0a-ad79-97f8d3a80be8"
      }
     }
    },
    "609c2196-edc7-49c3-b268-f5de392155f0": {
     "id": "609c2196-edc7-49c3-b268-f5de392155f0",
     "prev": "6bd96247-358d-4378-a72d-781267ad0b86",
     "regions": {
      "12dea232-7846-4f7f-9b98-3cbda1fa05bc": {
       "attrs": {
        "height": 0.8,
        "width": 0.8,
        "x": 0.1,
        "y": 0.1
       },
       "content": {
        "cell": "d0da6701-79a5-4119-8349-0580487648d2",
        "part": "whole"
       },
       "id": "12dea232-7846-4f7f-9b98-3cbda1fa05bc"
      }
     }
    },
    "6bd96247-358d-4378-a72d-781267ad0b86": {
     "id": "6bd96247-358d-4378-a72d-781267ad0b86",
     "prev": "8b823ea3-cea2-4bb6-a422-7ea81a3cdd41",
     "regions": {
      "9e159600-4917-4955-b221-a1dd537285ff": {
       "attrs": {
        "height": 0.8,
        "width": 0.8,
        "x": 0.1,
        "y": 0.1
       },
       "content": {
        "cell": "7afd62dd-0f35-4cbb-8e3f-7b8ab2c6f105",
        "part": "whole"
       },
       "id": "9e159600-4917-4955-b221-a1dd537285ff"
      }
     }
    },
    "8b823ea3-cea2-4bb6-a422-7ea81a3cdd41": {
     "id": "8b823ea3-cea2-4bb6-a422-7ea81a3cdd41",
     "prev": "8e4b7531-eb70-4b1b-bf91-c6737b13ea09",
     "regions": {
      "19b9a3ee-abf2-4092-a29a-dc7f286bfd4c": {
       "attrs": {
        "height": 0.8,
        "width": 0.8,
        "x": 0.1,
        "y": 0.1
       },
       "content": {
        "cell": "09dde386-d226-4de6-beb3-5ad2216d6a35",
        "part": "whole"
       },
       "id": "19b9a3ee-abf2-4092-a29a-dc7f286bfd4c"
      }
     }
    },
    "8e4b7531-eb70-4b1b-bf91-c6737b13ea09": {
     "id": "8e4b7531-eb70-4b1b-bf91-c6737b13ea09",
     "prev": "d4cb641d-57ca-4c1c-bf06-4b2236624fa3",
     "regions": {
      "0dc35d50-4299-4967-a7cf-4f44b9052e20": {
       "attrs": {
        "height": 0.8,
        "width": 0.8,
        "x": 0.1,
        "y": 0.1
       },
       "content": {
        "cell": "e45f0568-3df8-43bc-8928-424404d2b30e",
        "part": "whole"
       },
       "id": "0dc35d50-4299-4967-a7cf-4f44b9052e20"
      }
     }
    },
    "a99db751-52be-4e67-bd63-757d4b65d9bf": {
     "id": "a99db751-52be-4e67-bd63-757d4b65d9bf",
     "prev": "399ec872-03c6-453f-8c01-6cfe18f4830e",
     "regions": {
      "492b2281-f41f-4f7b-bf1f-b07de6f84734": {
       "attrs": {
        "height": 0.8,
        "width": 0.8,
        "x": 0.1,
        "y": 0.1
       },
       "content": {
        "cell": "795de9c4-f5c8-45b8-87af-6fb98ed259f9",
        "part": "whole"
       },
       "id": "492b2281-f41f-4f7b-bf1f-b07de6f84734"
      }
     }
    },
    "d4cb641d-57ca-4c1c-bf06-4b2236624fa3": {
     "id": "d4cb641d-57ca-4c1c-bf06-4b2236624fa3",
     "prev": null,
     "regions": {
      "9e1e1dc8-27de-454d-b287-ef76b7e06f4d": {
       "attrs": {
        "height": 0.8,
        "width": 0.8,
        "x": 0.1,
        "y": 0.09740254517894738
       },
       "content": {
        "cell": "5405a770-262e-4bfd-ade8-061d9fb82c05",
        "part": "whole"
       },
       "id": "9e1e1dc8-27de-454d-b287-ef76b7e06f4d"
      }
     }
    },
    "f58d479d-673a-4c9e-89f3-583806a36f6b": {
     "id": "f58d479d-673a-4c9e-89f3-583806a36f6b",
     "prev": "a99db751-52be-4e67-bd63-757d4b65d9bf",
     "regions": {
      "0ceec153-6b21-46f7-8ddf-0a95a3c5788e": {
       "attrs": {
        "height": 0.8,
        "width": 0.8,
        "x": 0.1,
        "y": 0.1
       },
       "content": {
        "cell": "5d0efcce-6104-4058-94db-a3a91a8af292",
        "part": "whole"
       },
       "id": "0ceec153-6b21-46f7-8ddf-0a95a3c5788e"
      }
     }
    }
   },
   "themes": {
    "default": "70395c71-7ba0-475e-b18d-14757ee5dee0",
    "theme": {
     "3341bdc5-9c05-47df-9581-ca8ea0e4c8b0": {
      "backgrounds": {
       "backgroundColor": {
        "background-color": "backgroundColor",
        "id": "backgroundColor"
       }
      },
      "id": "3341bdc5-9c05-47df-9581-ca8ea0e4c8b0",
      "palette": {
       "backgroundColor": {
        "id": "backgroundColor",
        "rgb": [
         43,
         43,
         43
        ]
       },
       "headingColor": {
        "id": "headingColor",
        "rgb": [
         238,
         238,
         238
        ]
       },
       "linkColor": {
        "id": "linkColor",
        "rgb": [
         19,
         218,
         236
        ]
       },
       "mainColor": {
        "id": "mainColor",
        "rgb": [
         238,
         238,
         238
        ]
       }
      },
      "rules": {
       "a": {
        "color": "linkColor"
       },
       "h1": {
        "color": "headingColor",
        "font-family": "Oswald",
        "font-size": 7
       },
       "h2": {
        "color": "headingColor",
        "font-family": "Oswald",
        "font-size": 5
       },
       "h3": {
        "color": "headingColor",
        "font-family": "Oswald",
        "font-size": 3.75
       },
       "h4": {
        "color": "headingColor",
        "font-family": "Oswald",
        "font-size": 3
       },
       "h5": {
        "color": "headingColor",
        "font-family": "Oswald"
       },
       "h6": {
        "color": "headingColor",
        "font-family": "Oswald"
       },
       "h7": {
        "color": "headingColor",
        "font-family": "Oswald"
       },
       "li": {
        "color": "mainColor",
        "font-family": "Lato",
        "font-size": 5
       },
       "p": {
        "color": "mainColor",
        "font-family": "Lato",
        "font-size": 5
       }
      },
      "text-base": {
       "color": "mainColor",
       "font-family": "Lato",
       "font-size": 5
      }
     },
     "70395c71-7ba0-475e-b18d-14757ee5dee0": {
      "backgrounds": {
       "backgroundColor": {
        "background-color": "backgroundColor",
        "id": "backgroundColor"
       }
      },
      "id": "70395c71-7ba0-475e-b18d-14757ee5dee0",
      "palette": {
       "backgroundColor": {
        "id": "backgroundColor",
        "rgb": [
         256,
         256,
         256
        ]
       },
       "headingColor": {
        "id": "headingColor",
        "rgb": [
         34,
         34,
         34
        ]
       },
       "linkColor": {
        "id": "linkColor",
        "rgb": [
         42,
         118,
         221
        ]
       },
       "mainColor": {
        "id": "mainColor",
        "rgb": [
         34,
         34,
         34
        ]
       }
      },
      "rules": {
       "a": {
        "color": "linkColor"
       },
       "h1": {
        "color": "headingColor",
        "font-family": "Source Sans Pro",
        "font-size": 5.25
       },
       "h2": {
        "color": "headingColor",
        "font-family": "Source Sans Pro",
        "font-size": 4
       },
       "h3": {
        "color": "headingColor",
        "font-family": "Source Sans Pro",
        "font-size": 3.5
       },
       "h4": {
        "color": "headingColor",
        "font-family": "Source Sans Pro",
        "font-size": 3
       },
       "h5": {
        "color": "headingColor",
        "font-family": "Source Sans Pro"
       },
       "h6": {
        "color": "headingColor",
        "font-family": "Source Sans Pro"
       },
       "h7": {
        "color": "headingColor",
        "font-family": "Source Sans Pro"
       },
       "li": {
        "color": "mainColor",
        "font-family": "Source Sans Pro",
        "font-size": 6
       },
       "p": {
        "color": "mainColor",
        "font-family": "Source Sans Pro",
        "font-size": 6
       }
      },
      "text-base": {
       "color": "mainColor",
       "font-family": "Source Sans Pro",
       "font-size": 6
      }
     },
     "9ad8405d-c6ad-41ff-bd03-4b9510c59830": {
      "backgrounds": {
       "backgroundColor": {
        "background-color": "backgroundColor",
        "id": "backgroundColor"
       }
      },
      "id": "9ad8405d-c6ad-41ff-bd03-4b9510c59830",
      "palette": {
       "backgroundColor": {
        "id": "backgroundColor",
        "rgb": [
         0,
         43,
         54
        ]
       },
       "headingColor": {
        "id": "headingColor",
        "rgb": [
         238,
         232,
         213
        ]
       },
       "linkColor": {
        "id": "linkColor",
        "rgb": [
         38,
         139,
         210
        ]
       },
       "mainColor": {
        "id": "mainColor",
        "rgb": [
         147,
         161,
         161
        ]
       }
      },
      "rules": {
       "a": {
        "color": "linkColor"
       },
       "h1": {
        "color": "headingColor",
        "font-family": "Oswald",
        "font-size": 7
       },
       "h2": {
        "color": "headingColor",
        "font-family": "Oswald",
        "font-size": 5
       },
       "h3": {
        "color": "headingColor",
        "font-family": "Oswald",
        "font-size": 3.75
       },
       "h4": {
        "color": "headingColor",
        "font-family": "Oswald",
        "font-size": 3
       },
       "h5": {
        "color": "headingColor",
        "font-family": "Oswald"
       },
       "h6": {
        "color": "headingColor",
        "font-family": "Oswald"
       },
       "h7": {
        "color": "headingColor",
        "font-family": "Oswald"
       },
       "li": {
        "color": "mainColor",
        "font-family": "Lato",
        "font-size": 5
       },
       "p": {
        "color": "mainColor",
        "font-family": "Lato",
        "font-size": 5
       }
      },
      "text-base": {
       "color": "mainColor",
       "font-family": "Lato",
       "font-size": 5
      }
     }
    }
   }
  }
 },
 "nbformat": 4,
 "nbformat_minor": 1
}
